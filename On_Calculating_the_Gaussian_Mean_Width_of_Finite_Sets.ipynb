{
 "cells": [
  {
   "cell_type": "markdown",
   "metadata": {},
   "source": [
    "# On Calculating the Gaussian Mean Width of Finite Sets\n",
    "Unfortunately, GitHub currently seems unable to render the markdown formulas correctly. For the correctly rendered formulas we refer to [html](https://htmlpreview.github.io/?https://github.com/sdittmer/On_Calculating_the_Gaussian_Mean_Width_of_Finite_Sets/blob/master/On_Calculating_the_Gaussian_Mean_Width_of_Finite_Sets.html).\n",
    "## What are we doing?\n",
    "We aim to calculate/approximate the Gaussian mean with of a finite set $K\\subset\\mathbb{R}^n$.\n",
    "\n",
    "## What is the Gaussian Mean Width?\n",
    "The **Gaussian mean width** ([Vershynin](https://arxiv.org/abs/1405.5103)) of a set $K\\subset\\mathbb{R}^n$ is defined as\n",
    "\n",
    "<a href=\"https://www.codecogs.com/eqnedit.php?latex=\\omega(K):=\\mathbb{E}_{g\\sim\\mathcal{N}(0,1_n)}&space;\\sup_{x\\in&space;K-K}&space;\\left<g,&space;x\\right>,\" target=\"_blank\"><img src=\"https://latex.codecogs.com/gif.latex?\\omega(K):=\\mathbb{E}_{g\\sim\\mathcal{N}(0,1_n)}&space;\\sup_{x\\in&space;K-K}&space;\\left<g,&space;x\\right>,\" title=\"\\omega(K):=\\mathbb{E}_{g\\sim\\mathcal{N}(0,1_n)} \\sup_{x\\in K-K} \\left<g, x\\right>,\" /></a>\n",
    "\n",
    "here $\\mathcal{N}(0,1_n)$ denotes an n-dimensional standard Gaussian i.i.d. vector and $K-K$ is to be read in the Minkowski sense.\n",
    "\n",
    "## Approach:\n",
    "As argued in ([Vershynin](https://arxiv.org/abs/1405.5103)), due to the Gaussian concentration of measure,\n",
    "\n",
    "<a href=\"https://www.codecogs.com/eqnedit.php?latex=\\sup_{x\\in&space;K-K}&space;\\left<g,&space;x\\right>\" target=\"_blank\"><img src=\"https://latex.codecogs.com/gif.latex?\\sup_{x\\in&space;K-K}&space;\\left<g,&space;x\\right>\" title=\"\\sup_{x\\in K-K} \\left<g, x\\right>\" /></a>\n",
    "\n",
    "for one $g\\sim\\mathcal{N}(0,1_n)$ already yields a good estimate for $\\omega(K)$. In practice, to make this estimate more stable, we averaged over the results of 100 samples of $g$. Due to the invariance of the Gaussian mean with under convexification we can replace the Formula above by \n",
    "\n",
    "<a href=\"https://www.codecogs.com/eqnedit.php?latex=\\sup_{x\\in&space;Conv(K)-Conv(K)}&space;\\left<g,&space;x\\right>,\" target=\"_blank\"><img src=\"https://latex.codecogs.com/gif.latex?\\sup_{x\\in&space;Conv(K)-Conv(K)}&space;\\left<g,&space;x\\right>,\" title=\"\\sup_{x\\in Conv(K)-Conv(K)} \\left<g, x\\right>,\" /></a>\n",
    "\n",
    "where $Conv(K)$ denotes the convex hull of $K$.\n",
    "\n",
    "## Algorithm\n",
    "In what follows, we use the notation $:$ to represent concatenations of the vectors/matrices and. Additionally we will overload the notation for the set $K=\\{x_1,\\dots,x_{|K|}\\}$ to also represent a matrix $K\\in\\mathbb{R}^{|K|\\times n}$ where each row is given by a different element of the set $K$. This allows us to formulate the solution of Formula above via the constraint optimization problem\n",
    "\n",
    "<a href=\"https://www.codecogs.com/eqnedit.php?latex=\\max_x\\left<g,&space;x\\right>\\text{&space;s.t.&space;}&space;\\begin{pmatrix}&space;1&space;&&space;\\cdots&space;&&space;1&space;&&space;0&space;&&space;\\cdots&space;&&space;0&space;\\\\&space;0&space;&&space;\\cdots&space;&&space;0&space;&&space;1&space;&&space;\\cdots&space;&&space;1&space;\\end{pmatrix}&space;\\begin{pmatrix}&space;\\alpha&space;\\\\&space;:\\\\&space;\\beta&space;\\end{pmatrix}&space;=&space;\\begin{pmatrix}&space;1&space;\\\\&space;1&space;\\end{pmatrix},&space;(\\alpha:-\\beta)\\ge0&space;\\text{&space;and&space;}&space;(K^T:K^T)(\\alpha:-\\beta)^T=x,&space;\\text{&space;where&space;}&space;\\alpha,&space;\\beta&space;\\in&space;\\mathbb{R}^{|K|}.\" target=\"_blank\"><img src=\"https://latex.codecogs.com/gif.latex?\\max_x\\left<g,&space;x\\right>\\text{&space;s.t.&space;}&space;\\begin{pmatrix}&space;1&space;&&space;\\cdots&space;&&space;1&space;&&space;0&space;&&space;\\cdots&space;&&space;0&space;\\\\&space;0&space;&&space;\\cdots&space;&&space;0&space;&&space;1&space;&&space;\\cdots&space;&&space;1&space;\\end{pmatrix}&space;\\begin{pmatrix}&space;\\alpha&space;\\\\&space;:\\\\&space;\\beta&space;\\end{pmatrix}&space;=&space;\\begin{pmatrix}&space;1&space;\\\\&space;1&space;\\end{pmatrix},&space;(\\alpha:-\\beta)\\ge0&space;\\text{&space;and&space;}&space;(K^T:K^T)(\\alpha:-\\beta)^T=x,&space;\\text{&space;where&space;}&space;\\alpha,&space;\\beta&space;\\in&space;\\mathbb{R}^{|K|}.\" title=\"\\max_x\\left<g, x\\right>\\text{ s.t. } \\begin{pmatrix} 1 & \\cdots & 1 & 0 & \\cdots & 0 \\\\ 0 & \\cdots & 0 & 1 & \\cdots & 1 \\end{pmatrix} \\begin{pmatrix} \\alpha \\\\ :\\\\ \\beta \\end{pmatrix} = \\begin{pmatrix} 1 \\\\ 1 \\end{pmatrix}, (\\alpha:-\\beta)\\ge0 \\text{ and } (K^T:K^T)(\\alpha:-\\beta)^T=x, \\text{ where } \\alpha, \\beta \\in \\mathbb{R}^{|K|}.\" /></a>\n",
    "\n",
    "Rewriting yields the algorithm in form of the following linear program:\n",
    "\n",
    "<a href=\"https://www.codecogs.com/eqnedit.php?latex=\\min_{(\\alpha:-\\beta)}&space;\\left<&space;-&space;\\begin{pmatrix}&space;K\\\\&space;:\\\\&space;K&space;\\end{pmatrix}&space;g,&space;\\begin{pmatrix}&space;\\alpha&space;\\\\&space;:\\\\&space;\\beta&space;\\end{pmatrix}&space;\\right>\" target=\"_blank\"><img src=\"https://latex.codecogs.com/gif.latex?\\min_{(\\alpha:-\\beta)}&space;\\left<&space;-&space;\\begin{pmatrix}&space;K\\\\&space;:\\\\&space;K&space;\\end{pmatrix}&space;g,&space;\\begin{pmatrix}&space;\\alpha&space;\\\\&space;:\\\\&space;\\beta&space;\\end{pmatrix}&space;\\right>\" title=\"\\min_{(\\alpha:-\\beta)} \\left< - \\begin{pmatrix} K\\\\ :\\\\ K \\end{pmatrix} g, \\begin{pmatrix} \\alpha \\\\ :\\\\ \\beta \\end{pmatrix} \\right>\" /></a>\n",
    "s.t. the first two requirements above hold."
   ]
  },
  {
   "cell_type": "code",
   "execution_count": 1,
   "metadata": {},
   "outputs": [],
   "source": [
    "import numpy as np\n",
    "from scipy.optimize import linprog\n",
    "from scipy.stats import trim_mean\n",
    "import matplotlib.pyplot as plt"
   ]
  },
  {
   "cell_type": "code",
   "execution_count": 2,
   "metadata": {},
   "outputs": [],
   "source": [
    "def mean_width_via_linprog(K, eta = None, gaussian=True):\n",
    "    \"\"\"\n",
    "    Estimates the mean width of the set K via the calculation of\n",
    "    sup <eta, z> for z in Conv(K-K).\n",
    "\n",
    "    Keyword arguments:\n",
    "    K -- A matrix, where each column is representing an element of the set K.\n",
    "    eta -- Gaussian/unit vector (default random Gaussian/unit vector)\n",
    "    gaussian -- whether Gaussian or Spherical mean width \n",
    "    \"\"\"\n",
    "    K = K.T\n",
    "    m, n = K.shape\n",
    "    if eta is None:\n",
    "        eta = np.random.normal(0, 1, n)\n",
    "    if not gaussian:\n",
    "        eta = eta / np.linalg.norm(eta)\n",
    "\n",
    "    K_over_K = np.vstack((K, K))\n",
    "\n",
    "    # only non-negative entries\n",
    "    bounds = (0, None)\n",
    "    A_eq = np.vstack((\n",
    "                        np.hstack((np.ones(m), np.zeros(m))),\n",
    "                        np.hstack((np.zeros(m), np.ones(m)))\n",
    "                    ))\n",
    "    b_eq = np.ones(2)\n",
    "    c = - np.dot(K_over_K, eta)\n",
    "\n",
    "    res = linprog(c=c, A_eq=A_eq, b_eq=b_eq, bounds=(bounds))\n",
    "    delta = res['x']\n",
    "\n",
    "    x = np.dot(K_over_K.T, delta)\n",
    "    sup = np.dot(x, eta)\n",
    "    return sup"
   ]
  },
  {
   "cell_type": "code",
   "execution_count": 3,
   "metadata": {},
   "outputs": [],
   "source": [
    "def get_mean_width_estimate(K,\n",
    "                             aggregate_over_n_estimations=100,\n",
    "                             gaussian=True):\n",
    "    \"\"\"\n",
    "    Estimates the mean width of the set K via the usage of\n",
    "    multiple instances of mean_width_via_linprog to get a\n",
    "    better estimate via calculating a trimmed mean.\n",
    "\n",
    "    Keyword arguments:\n",
    "    K -- A matrix, where each column is representing an element of the set K.\n",
    "    aggregate_over_n_estimations -- number of instances over which we calculate the timmed mean (default 100)\n",
    "    gaussian -- whether Gaussian or Spherical mean width\n",
    "    \"\"\"\n",
    "    estimation_s = []\n",
    "    for _ in range(aggregate_over_n_estimations):\n",
    "        estimation = mean_width_via_linprog(K, eta = None, gaussian=gaussian)\n",
    "        estimation_s += [estimation]\n",
    "\n",
    "    estimation_s = np.array(estimation_s)\n",
    "\n",
    "    estimation = trim_mean(estimation_s, 0.1)\n",
    "\n",
    "    return estimation"
   ]
  },
  {
   "cell_type": "markdown",
   "metadata": {},
   "source": [
    "# Simple Example\n",
    "As an example we want to calculate the Gaussian mean width of a set $K$ given by $1,000$ random vectors sampled from $\\mathcal{N}(0,1_5)$."
   ]
  },
  {
   "cell_type": "code",
   "execution_count": 5,
   "metadata": {},
   "outputs": [
    {
     "name": "stdout",
     "output_type": "stream",
     "text": [
      "The Gaussian mean width of the set K is approximately 13.294847084449453.\n"
     ]
    }
   ],
   "source": [
    "# We create the example set.\n",
    "K = np.random.normal(0, 1, [5, 1000])\n",
    "# We calaculate the Gaussian mean width\n",
    "gmw = get_mean_width_estimate(K)\n",
    "# Print result\n",
    "print(f\"The Gaussian mean width of the set K is approximately {gmw}.\")"
   ]
  }
 ],
 "metadata": {
  "kernelspec": {
   "display_name": "Python 3",
   "language": "python",
   "name": "python3"
  },
  "language_info": {
   "codemirror_mode": {
    "name": "ipython",
    "version": 3
   },
   "file_extension": ".py",
   "mimetype": "text/x-python",
   "name": "python",
   "nbconvert_exporter": "python",
   "pygments_lexer": "ipython3",
   "version": "3.7.1"
  }
 },
 "nbformat": 4,
 "nbformat_minor": 2
}
